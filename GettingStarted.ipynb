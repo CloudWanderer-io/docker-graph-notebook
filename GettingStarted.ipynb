{
 "cells": [
  {
   "cell_type": "code",
   "execution_count": 2,
   "id": "2fe2c87d",
   "metadata": {},
   "outputs": [
    {
     "name": "stdout",
     "output_type": "stream",
     "text": [
      "set notebook config to:\n",
      "{\n",
      "  \"host\": \"gremlin\",\n",
      "  \"port\": 8182,\n",
      "  \"ssl\": false,\n",
      "  \"sparql\": {\n",
      "    \"path\": \"sparql\"\n",
      "  }\n",
      "}\n"
     ]
    },
    {
     "data": {
      "text/plain": [
       "<graph_notebook.configuration.generate_config.Configuration at 0x7f4496e5c400>"
      ]
     },
     "execution_count": 2,
     "metadata": {},
     "output_type": "execute_result"
    }
   ],
   "source": [
    "%%graph_notebook_config\n",
    "{\n",
    "  \"host\": \"gremlin\",\n",
    "  \"port\": 8182,\n",
    "  \"ssl\": false,\n",
    "  \"opencypher\": {\"path\": \"gremlin\", \"opencypher_query_key\": \"gremlin\"}\n",
    "}"
   ]
  },
  {
   "cell_type": "code",
   "execution_count": 61,
   "id": "7bb9ad95",
   "metadata": {},
   "outputs": [
    {
     "data": {
      "application/vnd.jupyter.widget-view+json": {
       "model_id": "02e546b5389543f999cb7b23d01b87f0",
       "version_major": 2,
       "version_minor": 0
      },
      "text/plain": [
       "Tab(children=(Output(layout=Layout(max_height='600px', overflow='scroll', width='100%')), Output(layout=Layout…"
      ]
     },
     "metadata": {},
     "output_type": "display_data"
    }
   ],
   "source": [
    "%%gremlin -l 70\n",
    "\n",
    "sam = g.addV('Person').property(T.id, 'Sam').property('First', 'Sam').property('Last', 'Martin').next()\n",
    "jack = g.addV('Person').property(T.id, 'Jack').property('First', 'Jack').property('Last', 'Martin').next()\n",
    "g.V(sam).addE('Knows').from(jack).iterate()"
   ]
  },
  {
   "cell_type": "code",
   "execution_count": 6,
   "id": "44345a5f",
   "metadata": {},
   "outputs": [
    {
     "data": {
      "application/vnd.jupyter.widget-view+json": {
       "model_id": "c1a7b19aff6644c9a99a2183d96ac725",
       "version_major": 2,
       "version_minor": 0
      },
      "text/plain": [
       "Tab(children=(Output(layout=Layout(max_height='600px', overflow='scroll', width='100%')), Force(network=<graph…"
      ]
     },
     "metadata": {},
     "output_type": "display_data"
    }
   ],
   "source": [
    "%%gremlin -l 7\n",
    "g.V().hasLabel('aws_iam_policy').path().by(valueMap(true))"
   ]
  },
  {
   "cell_type": "code",
   "execution_count": 11,
   "id": "32616318",
   "metadata": {},
   "outputs": [
    {
     "data": {
      "application/vnd.jupyter.widget-view+json": {
       "model_id": "d3368bc242c841248226be8c353ede8d",
       "version_major": 2,
       "version_minor": 0
      },
      "text/plain": [
       "Tab(children=(Output(layout=Layout(max_height='600px', overflow='scroll', width='100%')), Output(layout=Layout…"
      ]
     },
     "metadata": {},
     "output_type": "display_data"
    }
   ],
   "source": [
    "%%gremlin -l 70\n",
    "g.V().as('a').has('_urn', 'urn:aws:080863329876:us-east-1:iam:policy:arn').path().by(valueMap(true))"
   ]
  },
  {
   "cell_type": "code",
   "execution_count": 21,
   "id": "ecc00678",
   "metadata": {},
   "outputs": [
    {
     "data": {
      "application/vnd.jupyter.widget-view+json": {
       "model_id": "8351214e58194a9ab8165fd26e61fc84",
       "version_major": 2,
       "version_minor": 0
      },
      "text/plain": [
       "Tab(children=(Output(layout=Layout(max_height='600px', overflow='scroll', width='100%')), Output(layout=Layout…"
      ]
     },
     "metadata": {},
     "output_type": "display_data"
    }
   ],
   "source": [
    "%%gremlin\n",
    "g.V().drop().iterate()\n",
    "g.E().drop().iterate()"
   ]
  },
  {
   "cell_type": "code",
   "execution_count": 15,
   "id": "43425d1b",
   "metadata": {},
   "outputs": [
    {
     "data": {
      "application/vnd.jupyter.widget-view+json": {
       "model_id": "b32bc4f44653433db1c4c62da849067e",
       "version_major": 2,
       "version_minor": 0
      },
      "text/plain": [
       "Tab(children=(Output(layout=Layout(max_height='600px', overflow='scroll', width='100%')), Force(network=<graph…"
      ]
     },
     "metadata": {},
     "output_type": "display_data"
    }
   ],
   "source": [
    "%%gremlin\n",
    "g.E().label().next()\n",
    "g.V().out().path().by(valueMap(true))"
   ]
  },
  {
   "cell_type": "code",
   "execution_count": 13,
   "id": "75444533",
   "metadata": {},
   "outputs": [
    {
     "data": {
      "application/vnd.jupyter.widget-view+json": {
       "model_id": "d58a179a3c2940189c2436c9338d25a1",
       "version_major": 2,
       "version_minor": 0
      },
      "text/plain": [
       "Tab(children=(Output(layout=Layout(max_height='600px', overflow='scroll', width='100%')), Output(layout=Layout…"
      ]
     },
     "metadata": {},
     "output_type": "display_data"
    }
   ],
   "source": [
    "%%gremlin\n",
    "g.V()"
   ]
  },
  {
   "cell_type": "code",
   "execution_count": 27,
   "id": "fc4a41d5",
   "metadata": {},
   "outputs": [
    {
     "name": "stdout",
     "output_type": "stream",
     "text": [
      "{\n",
      "  \"host\": \"gremlin\",\n",
      "  \"port\": 8182,\n",
      "  \"ssl\": false,\n",
      "  \"sparql\": {\n",
      "    \"path\": \"sparql\"\n",
      "  }\n",
      "}\n"
     ]
    },
    {
     "data": {
      "text/plain": [
       "<graph_notebook.configuration.generate_config.Configuration at 0x7ffa68196748>"
      ]
     },
     "execution_count": 27,
     "metadata": {},
     "output_type": "execute_result"
    }
   ],
   "source": [
    "%graph_notebook_config\n"
   ]
  },
  {
   "cell_type": "code",
   "execution_count": null,
   "id": "e5667d49",
   "metadata": {},
   "outputs": [],
   "source": []
  }
 ],
 "metadata": {
  "kernelspec": {
   "display_name": "Python 3",
   "language": "python",
   "name": "python3"
  },
  "language_info": {
   "codemirror_mode": {
    "name": "ipython",
    "version": 3
   },
   "file_extension": ".py",
   "mimetype": "text/x-python",
   "name": "python",
   "nbconvert_exporter": "python",
   "pygments_lexer": "ipython3",
   "version": "3.6.12"
  }
 },
 "nbformat": 4,
 "nbformat_minor": 5
}
